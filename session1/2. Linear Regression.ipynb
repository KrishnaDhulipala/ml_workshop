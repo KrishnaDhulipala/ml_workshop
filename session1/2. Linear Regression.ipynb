{
 "cells": [
  {
   "cell_type": "markdown",
   "metadata": {},
   "source": [
    "# Introduction to Regression: Linear Regression\n",
    "\n",
    "In this introduction, we will develop linear regression from basic principles.  Other tutorials will forgo the theory and focus on existing python libraries that are commonly used for building regression models.\n",
    "\n",
    "In our line fitting exercise, we manual tweeked the model parameters.  While that was certainly fun for about 1 min, it probably became tedious.  We want to automate the process."
   ]
  },
  {
   "cell_type": "code",
   "execution_count": 1,
   "metadata": {
    "collapsed": true
   },
   "outputs": [],
   "source": [
    "# All good python projects begin with specifying which modules to load\n",
    "\n",
    "import pandas as pd  # Pandas is a package which creates data frames\n",
    "import numpy as np # Numpy is the package which creates/manages/operates on numerical data\n",
    "import matplotlib.pyplot as plt # Matplotlib is the plotting library\n",
    "\n",
    "# This allow for multiple outputs\n",
    "from IPython.core.interactiveshell import InteractiveShell\n",
    "InteractiveShell.ast_node_interactivity = \"all\""
   ]
  },
  {
   "cell_type": "markdown",
   "metadata": {},
   "source": [
    "## The Data\n",
    "\n",
    "Every project begins with the data.  We will be using example data that _Fedor Karmanov_ has created based on some published literature.  Visit Fedor's github repo to learn more (https://github.com/fed-ka/springboard)\n",
    "\n",
    "//=-=-=-=-=-=-=-=-=-=-=-=-=-=\n",
    "\n",
    "Dataset:  lsd.dat\n",
    "Source: Wagner, Agahajanian, and Bing (1968). Correlation of Performance\n",
    "Test Scores with Tissue Concentration of Lysergic Acid Diethylamide in\n",
    "Human Subjects. Clinical Pharmacology and Therapeutics, Vol.9 pp635-638.\n",
    "\n",
    "Description: Group of volunteers was given LSD, their mean scores on\n",
    "math exam and tissue concentrations of LSD were obtained at n=7 time points.\n",
    "\n",
    "Variables/Columns\n",
    "\n",
    "Tissue Concentration    1-4 <br>\n",
    "Math Score             8-12\n",
    "\n",
    "//=-=-=-=-=-=-=-=-=-=-=-=-=-=\n",
    "\n"
   ]
  },
  {
   "cell_type": "code",
   "execution_count": 2,
   "metadata": {},
   "outputs": [
    {
     "name": "stdout",
     "output_type": "stream",
     "text": [
      "Model\n"
     ]
    },
    {
     "data": {
      "text/plain": [
       "{'b': 0, 'm': 0}"
      ]
     },
     "execution_count": 2,
     "metadata": {},
     "output_type": "execute_result"
    },
    {
     "name": "stdout",
     "output_type": "stream",
     "text": [
      "Model Data\n"
     ]
    },
    {
     "data": {
      "text/html": [
       "<div>\n",
       "<style>\n",
       "    .dataframe thead tr:only-child th {\n",
       "        text-align: right;\n",
       "    }\n",
       "\n",
       "    .dataframe thead th {\n",
       "        text-align: left;\n",
       "    }\n",
       "\n",
       "    .dataframe tbody tr th {\n",
       "        vertical-align: top;\n",
       "    }\n",
       "</style>\n",
       "<table border=\"1\" class=\"dataframe\">\n",
       "  <thead>\n",
       "    <tr style=\"text-align: right;\">\n",
       "      <th></th>\n",
       "      <th>x</th>\n",
       "      <th>y</th>\n",
       "      <th>y_</th>\n",
       "    </tr>\n",
       "  </thead>\n",
       "  <tbody>\n",
       "    <tr>\n",
       "      <th>0</th>\n",
       "      <td>1.17</td>\n",
       "      <td>78.93</td>\n",
       "      <td>0.0</td>\n",
       "    </tr>\n",
       "    <tr>\n",
       "      <th>1</th>\n",
       "      <td>2.97</td>\n",
       "      <td>58.20</td>\n",
       "      <td>0.0</td>\n",
       "    </tr>\n",
       "    <tr>\n",
       "      <th>2</th>\n",
       "      <td>3.26</td>\n",
       "      <td>67.47</td>\n",
       "      <td>0.0</td>\n",
       "    </tr>\n",
       "    <tr>\n",
       "      <th>3</th>\n",
       "      <td>4.69</td>\n",
       "      <td>37.47</td>\n",
       "      <td>0.0</td>\n",
       "    </tr>\n",
       "    <tr>\n",
       "      <th>4</th>\n",
       "      <td>5.83</td>\n",
       "      <td>45.65</td>\n",
       "      <td>0.0</td>\n",
       "    </tr>\n",
       "    <tr>\n",
       "      <th>5</th>\n",
       "      <td>6.00</td>\n",
       "      <td>32.92</td>\n",
       "      <td>0.0</td>\n",
       "    </tr>\n",
       "    <tr>\n",
       "      <th>6</th>\n",
       "      <td>6.41</td>\n",
       "      <td>29.97</td>\n",
       "      <td>0.0</td>\n",
       "    </tr>\n",
       "  </tbody>\n",
       "</table>\n",
       "</div>"
      ],
      "text/plain": [
       "      x      y   y_\n",
       "0  1.17  78.93  0.0\n",
       "1  2.97  58.20  0.0\n",
       "2  3.26  67.47  0.0\n",
       "3  4.69  37.47  0.0\n",
       "4  5.83  45.65  0.0\n",
       "5  6.00  32.92  0.0\n",
       "6  6.41  29.97  0.0"
      ]
     },
     "execution_count": 2,
     "metadata": {},
     "output_type": "execute_result"
    }
   ],
   "source": [
    "# Pull the data directly from github\n",
    "lsd = 'https://raw.githubusercontent.com/fed-ka/springboard/master/5.%20Linear%20Regressions%20in%20Python/lsd.csv'\n",
    "data = pd.read_csv(lsd)\n",
    "\n",
    "# Skip the data exploration and just get back to a basic model\n",
    "\n",
    "# Model\n",
    "model = dict()\n",
    "model['m'] = 0\n",
    "model['b'] = 0\n",
    "\n",
    "# Since there is no model yet, y_ can be filled with 0\n",
    "modelData = pd.DataFrame({'x': data['Tissue Concentration'],\n",
    "                          'y': data['Test Score'], \n",
    "                          'y_': np.zeros(data['Test Score'].count())})\n",
    "\n",
    "\n",
    "print('Model')\n",
    "model\n",
    "print('Model Data')\n",
    "modelData\n"
   ]
  },
  {
   "cell_type": "markdown",
   "metadata": {},
   "source": [
    "## Formalize the problem\n",
    "\n",
    "We know:\n",
    "\n",
    "$y_i = m*x_i + b$ _for all i samples_\n",
    "\n",
    "The model that we are building is:\n",
    "\n",
    "$\\bar{y} = m*x + b$\n",
    "\n",
    "The error that we have defined is:\n",
    "\n",
    "$sse = \\frac{1}{N} \\sum{( y_i - \\bar{y}(x_i) )^2}$\n",
    "\n",
    "The expanded form of this is:\n",
    "\n",
    "$sse = \\frac{1}{N} \\sum{(y_i - (m*x_i + b))^2}$\n",
    "\n",
    "We want to minimize the error.  This is accomplished with gradient descent.  To use the gradient descent, we need the gradient with respect to each of the parameters that we are tweeking:\n",
    "\n",
    "$\\begin{aligned}\n",
    "\\frac{\\partial}{\\partial m} sse &= \\\\\n",
    "&= \\frac{\\partial}{\\partial m} \\frac{1}{N} \\sum{(y_i - (m*x_i + b))^2} \\\\\n",
    "&= \\frac{1}{N} \\sum{ \\frac{\\partial}{\\partial m}  (y_i - (m*x_i + b))^2}\\\\\n",
    "&= \\frac{2}{N} \\sum{ -x_i (y_i - (m*x_i + b))} \\\\\n",
    "&= \\frac{2}{N} \\sum{ -x_i (y_i - \\bar{y_i})}\n",
    "\\end{aligned}$\n",
    "\n",
    "$\\begin{aligned}\n",
    "\\frac{\\partial}{\\partial b} sse &= \\\\\n",
    "&= \\frac{\\partial}{\\partial b} \\frac{1}{N} \\sum{(y_i - (m*x_i + b))^2} \\\\\n",
    "&= \\frac{1}{N} \\sum{ \\frac{\\partial}{\\partial b}  (y_i - (m*x_i + b))^2}\\\\\n",
    "&= \\frac{2}{N} \\sum{ -(y_i - (m*x_i + b))} \\\\\n",
    "&= \\frac{2}{N} \\sum{ -(y_i - \\bar{y_i})}\n",
    "\\end{aligned}$\n",
    "\n",
    "Now we can convert this into code."
   ]
  },
  {
   "cell_type": "code",
   "execution_count": 3,
   "metadata": {},
   "outputs": [],
   "source": [
    "def computeModelAndError (model, modelData):\n",
    "    \n",
    "    # Compute model\n",
    "    modelData['y_'] = model['m'] * modelData['x']  +  model['b']\n",
    "\n",
    "    # Compute SSE\n",
    "    modelData['delta'] = modelData['y'] - modelData['y_']\n",
    "    modelData['squared'] = modelData['delta']*modelData['delta']\n",
    "\n",
    "    model['sse'] = sum(modelData['squared'])/modelData['squared'].count()\n",
    "    \n",
    "    return model, modelData"
   ]
  },
  {
   "cell_type": "code",
   "execution_count": 4,
   "metadata": {},
   "outputs": [],
   "source": [
    "def gradSSE(model, modelData):\n",
    "    # We are going to be summing the gradient for each point that we are testing with\n",
    "    b_gradient = 0 \n",
    "    m_gradient = 0     \n",
    "    N = float(modelData.x.count())\n",
    "\n",
    "    for i in range(0, modelData.x.count()): \n",
    "        m_gradient += -(modelData.x[i] * (modelData.y[i] - modelData.y_[i]))\n",
    "        b_gradient += -(modelData.y[i] - modelData.y_[i]) \n",
    "\n",
    "    model['gradm'] = (2/N*m_gradient)\n",
    "    model['gradb'] = (2/N*b_gradient)\n",
    "    \n",
    "    return model"
   ]
  },
  {
   "cell_type": "markdown",
   "metadata": {},
   "source": [
    "In gradient descent, you take the existing model parameters (m and b) and adjust them based on the gradient (which will point downhill).  The rate at which you adjust the parameters is called the \"learning rate.\""
   ]
  },
  {
   "cell_type": "code",
   "execution_count": 5,
   "metadata": {},
   "outputs": [],
   "source": [
    "def gradDescent(model,modelData,learningRate):\n",
    "    # Given the current model, determine the gradients\n",
    "    model = gradSSE(model,modelData)\n",
    "    \n",
    "    # Given the gradients, we can estimate new parameters\n",
    "    model['m'] = model['m'] - (learningRate * model['gradm']) \n",
    "    model['b'] = model['b'] - (learningRate * model['gradb']) \n",
    "    \n",
    "    return model    \n",
    "    \n"
   ]
  },
  {
   "cell_type": "markdown",
   "metadata": {},
   "source": [
    "# Apply the learning\n",
    "\n",
    "Stepping through the learning one step at a time:\n",
    "\n",
    "1) Start with a guess\n",
    "2) Compute the model\n",
    "3) Apply Gradient Descent\n",
    "4) Compute the new model"
   ]
  },
  {
   "cell_type": "code",
   "execution_count": 6,
   "metadata": {},
   "outputs": [
    {
     "name": "stdout",
     "output_type": "stream",
     "text": [
      "Current Model\n"
     ]
    },
    {
     "data": {
      "text/plain": [
       "{'b': 85, 'm': -9.090909090909092, 'sse': 56.331377213695454}"
      ]
     },
     "execution_count": 6,
     "metadata": {},
     "output_type": "execute_result"
    },
    {
     "data": {
      "text/html": [
       "<div>\n",
       "<style>\n",
       "    .dataframe thead tr:only-child th {\n",
       "        text-align: right;\n",
       "    }\n",
       "\n",
       "    .dataframe thead th {\n",
       "        text-align: left;\n",
       "    }\n",
       "\n",
       "    .dataframe tbody tr th {\n",
       "        vertical-align: top;\n",
       "    }\n",
       "</style>\n",
       "<table border=\"1\" class=\"dataframe\">\n",
       "  <thead>\n",
       "    <tr style=\"text-align: right;\">\n",
       "      <th></th>\n",
       "      <th>x</th>\n",
       "      <th>y</th>\n",
       "      <th>y_</th>\n",
       "      <th>delta</th>\n",
       "      <th>squared</th>\n",
       "    </tr>\n",
       "  </thead>\n",
       "  <tbody>\n",
       "    <tr>\n",
       "      <th>0</th>\n",
       "      <td>1.17</td>\n",
       "      <td>78.93</td>\n",
       "      <td>74.363636</td>\n",
       "      <td>4.566364</td>\n",
       "      <td>20.851677</td>\n",
       "    </tr>\n",
       "    <tr>\n",
       "      <th>1</th>\n",
       "      <td>2.97</td>\n",
       "      <td>58.20</td>\n",
       "      <td>58.000000</td>\n",
       "      <td>0.200000</td>\n",
       "      <td>0.040000</td>\n",
       "    </tr>\n",
       "    <tr>\n",
       "      <th>2</th>\n",
       "      <td>3.26</td>\n",
       "      <td>67.47</td>\n",
       "      <td>55.363636</td>\n",
       "      <td>12.106364</td>\n",
       "      <td>146.564040</td>\n",
       "    </tr>\n",
       "    <tr>\n",
       "      <th>3</th>\n",
       "      <td>4.69</td>\n",
       "      <td>37.47</td>\n",
       "      <td>42.363636</td>\n",
       "      <td>-4.893636</td>\n",
       "      <td>23.947677</td>\n",
       "    </tr>\n",
       "    <tr>\n",
       "      <th>4</th>\n",
       "      <td>5.83</td>\n",
       "      <td>45.65</td>\n",
       "      <td>32.000000</td>\n",
       "      <td>13.650000</td>\n",
       "      <td>186.322500</td>\n",
       "    </tr>\n",
       "    <tr>\n",
       "      <th>5</th>\n",
       "      <td>6.00</td>\n",
       "      <td>32.92</td>\n",
       "      <td>30.454545</td>\n",
       "      <td>2.465455</td>\n",
       "      <td>6.078466</td>\n",
       "    </tr>\n",
       "    <tr>\n",
       "      <th>6</th>\n",
       "      <td>6.41</td>\n",
       "      <td>29.97</td>\n",
       "      <td>26.727273</td>\n",
       "      <td>3.242727</td>\n",
       "      <td>10.515280</td>\n",
       "    </tr>\n",
       "  </tbody>\n",
       "</table>\n",
       "</div>"
      ],
      "text/plain": [
       "      x      y         y_      delta     squared\n",
       "0  1.17  78.93  74.363636   4.566364   20.851677\n",
       "1  2.97  58.20  58.000000   0.200000    0.040000\n",
       "2  3.26  67.47  55.363636  12.106364  146.564040\n",
       "3  4.69  37.47  42.363636  -4.893636   23.947677\n",
       "4  5.83  45.65  32.000000  13.650000  186.322500\n",
       "5  6.00  32.92  30.454545   2.465455    6.078466\n",
       "6  6.41  29.97  26.727273   3.242727   10.515280"
      ]
     },
     "execution_count": 6,
     "metadata": {},
     "output_type": "execute_result"
    },
    {
     "data": {
      "text/plain": [
       "<matplotlib.collections.PathCollection at 0x20a0fb8cc88>"
      ]
     },
     "execution_count": 6,
     "metadata": {},
     "output_type": "execute_result"
    },
    {
     "data": {
      "text/plain": [
       "<matplotlib.collections.PathCollection at 0x20a0fb8cd30>"
      ]
     },
     "execution_count": 6,
     "metadata": {},
     "output_type": "execute_result"
    },
    {
     "data": {
      "text/plain": [
       "[<matplotlib.lines.Line2D at 0x20a0fb8cd68>]"
      ]
     },
     "execution_count": 6,
     "metadata": {},
     "output_type": "execute_result"
    },
    {
     "data": {
      "image/png": "[encoded data removed]",
      "text/plain": [
       "<matplotlib.figure.Figure at 0x20a0f93efd0>"
      ]
     },
     "metadata": {},
     "output_type": "display_data"
    },
    {
     "name": "stdout",
     "output_type": "stream",
     "text": [
      "New Model\n"
     ]
    },
    {
     "data": {
      "text/plain": [
       "{'b': 85.089535064935063,\n",
       " 'gradb': -8.9535064935065023,\n",
       " 'gradm': -39.317241558441594,\n",
       " 'm': -8.6977366753246752,\n",
       " 'sse': 43.782784733072205}"
      ]
     },
     "execution_count": 6,
     "metadata": {},
     "output_type": "execute_result"
    },
    {
     "data": {
      "text/html": [
       "<div>\n",
       "<style>\n",
       "    .dataframe thead tr:only-child th {\n",
       "        text-align: right;\n",
       "    }\n",
       "\n",
       "    .dataframe thead th {\n",
       "        text-align: left;\n",
       "    }\n",
       "\n",
       "    .dataframe tbody tr th {\n",
       "        vertical-align: top;\n",
       "    }\n",
       "</style>\n",
       "<table border=\"1\" class=\"dataframe\">\n",
       "  <thead>\n",
       "    <tr style=\"text-align: right;\">\n",
       "      <th></th>\n",
       "      <th>x</th>\n",
       "      <th>y</th>\n",
       "      <th>y_</th>\n",
       "      <th>delta</th>\n",
       "      <th>squared</th>\n",
       "    </tr>\n",
       "  </thead>\n",
       "  <tbody>\n",
       "    <tr>\n",
       "      <th>0</th>\n",
       "      <td>1.17</td>\n",
       "      <td>78.93</td>\n",
       "      <td>74.913183</td>\n",
       "      <td>4.016817</td>\n",
       "      <td>16.134818</td>\n",
       "    </tr>\n",
       "    <tr>\n",
       "      <th>1</th>\n",
       "      <td>2.97</td>\n",
       "      <td>58.20</td>\n",
       "      <td>59.257257</td>\n",
       "      <td>-1.057257</td>\n",
       "      <td>1.117793</td>\n",
       "    </tr>\n",
       "    <tr>\n",
       "      <th>2</th>\n",
       "      <td>3.26</td>\n",
       "      <td>67.47</td>\n",
       "      <td>56.734914</td>\n",
       "      <td>10.735086</td>\n",
       "      <td>115.242082</td>\n",
       "    </tr>\n",
       "    <tr>\n",
       "      <th>3</th>\n",
       "      <td>4.69</td>\n",
       "      <td>37.47</td>\n",
       "      <td>44.297150</td>\n",
       "      <td>-6.827150</td>\n",
       "      <td>46.609978</td>\n",
       "    </tr>\n",
       "    <tr>\n",
       "      <th>4</th>\n",
       "      <td>5.83</td>\n",
       "      <td>45.65</td>\n",
       "      <td>34.381730</td>\n",
       "      <td>11.268270</td>\n",
       "      <td>126.973903</td>\n",
       "    </tr>\n",
       "    <tr>\n",
       "      <th>5</th>\n",
       "      <td>6.00</td>\n",
       "      <td>32.92</td>\n",
       "      <td>32.903115</td>\n",
       "      <td>0.016885</td>\n",
       "      <td>0.000285</td>\n",
       "    </tr>\n",
       "    <tr>\n",
       "      <th>6</th>\n",
       "      <td>6.41</td>\n",
       "      <td>29.97</td>\n",
       "      <td>29.337043</td>\n",
       "      <td>0.632957</td>\n",
       "      <td>0.400635</td>\n",
       "    </tr>\n",
       "  </tbody>\n",
       "</table>\n",
       "</div>"
      ],
      "text/plain": [
       "      x      y         y_      delta     squared\n",
       "0  1.17  78.93  74.913183   4.016817   16.134818\n",
       "1  2.97  58.20  59.257257  -1.057257    1.117793\n",
       "2  3.26  67.47  56.734914  10.735086  115.242082\n",
       "3  4.69  37.47  44.297150  -6.827150   46.609978\n",
       "4  5.83  45.65  34.381730  11.268270  126.973903\n",
       "5  6.00  32.92  32.903115   0.016885    0.000285\n",
       "6  6.41  29.97  29.337043   0.632957    0.400635"
      ]
     },
     "execution_count": 6,
     "metadata": {},
     "output_type": "execute_result"
    },
    {
     "data": {
      "text/plain": [
       "<matplotlib.collections.PathCollection at 0x20a0fe72da0>"
      ]
     },
     "execution_count": 6,
     "metadata": {},
     "output_type": "execute_result"
    },
    {
     "data": {
      "text/plain": [
       "<matplotlib.collections.PathCollection at 0x20a0fe7c710>"
      ]
     },
     "execution_count": 6,
     "metadata": {},
     "output_type": "execute_result"
    },
    {
     "data": {
      "text/plain": [
       "[<matplotlib.lines.Line2D at 0x20a0fe7c860>]"
      ]
     },
     "execution_count": 6,
     "metadata": {},
     "output_type": "execute_result"
    },
    {
     "data": {
      "image/png": "[encoded data removed]",
      "text/plain": [
       "<matplotlib.figure.Figure at 0x20a0f93eda0>"
      ]
     },
     "metadata": {},
     "output_type": "display_data"
    }
   ],
   "source": [
    "# Step 1 - Pulled from manual task\n",
    "learningRate = .01\n",
    "model['m'] = (80-30)/(1-6.5)\n",
    "model['b'] = 85\n",
    "\n",
    "\n",
    "# Step 2 - Compute model\n",
    "[model,modelData] = computeModelAndError (model, modelData)\n",
    "    \n",
    "print('Current Model')\n",
    "model\n",
    "modelData\n",
    "\n",
    "plt.scatter(modelData['x'],modelData['y'],color='r')\n",
    "plt.scatter(modelData['x'],modelData['y_'],color='g')\n",
    "plt.plot(modelData['x'],modelData['y_'],color='b')\n",
    "plt.show()\n",
    "\n",
    "# Step 3 - Apply grad \n",
    "\n",
    "model = gradDescent(model,modelData,learningRate)\n",
    "        \n",
    "# Step 4 - Compute new model\n",
    "[model,modelData] = computeModelAndError (model, modelData)\n",
    "print('New Model')\n",
    "model\n",
    "modelData\n",
    "\n",
    "plt.scatter(modelData['x'],modelData['y'],color='r')\n",
    "plt.scatter(modelData['x'],modelData['y_'],color='g')\n",
    "plt.plot(modelData['x'],modelData['y_'],color='b')\n",
    "plt.show()"
   ]
  },
  {
   "cell_type": "code",
   "execution_count": 7,
   "metadata": {},
   "outputs": [
    {
     "name": "stdout",
     "output_type": "stream",
     "text": [
      "Initial Model\n"
     ]
    },
    {
     "data": {
      "text/plain": [
       "{'b': 85,\n",
       " 'gradb': -8.9535064935065023,\n",
       " 'gradm': -39.317241558441594,\n",
       " 'm': -9.090909090909092,\n",
       " 'sse': 56.331377213695454}"
      ]
     },
     "execution_count": 7,
     "metadata": {},
     "output_type": "execute_result"
    },
    {
     "data": {
      "text/html": [
       "<div>\n",
       "<style>\n",
       "    .dataframe thead tr:only-child th {\n",
       "        text-align: right;\n",
       "    }\n",
       "\n",
       "    .dataframe thead th {\n",
       "        text-align: left;\n",
       "    }\n",
       "\n",
       "    .dataframe tbody tr th {\n",
       "        vertical-align: top;\n",
       "    }\n",
       "</style>\n",
       "<table border=\"1\" class=\"dataframe\">\n",
       "  <thead>\n",
       "    <tr style=\"text-align: right;\">\n",
       "      <th></th>\n",
       "      <th>x</th>\n",
       "      <th>y</th>\n",
       "      <th>y_</th>\n",
       "      <th>delta</th>\n",
       "      <th>squared</th>\n",
       "    </tr>\n",
       "  </thead>\n",
       "  <tbody>\n",
       "    <tr>\n",
       "      <th>0</th>\n",
       "      <td>1.17</td>\n",
       "      <td>78.93</td>\n",
       "      <td>74.363636</td>\n",
       "      <td>4.566364</td>\n",
       "      <td>20.851677</td>\n",
       "    </tr>\n",
       "    <tr>\n",
       "      <th>1</th>\n",
       "      <td>2.97</td>\n",
       "      <td>58.20</td>\n",
       "      <td>58.000000</td>\n",
       "      <td>0.200000</td>\n",
       "      <td>0.040000</td>\n",
       "    </tr>\n",
       "    <tr>\n",
       "      <th>2</th>\n",
       "      <td>3.26</td>\n",
       "      <td>67.47</td>\n",
       "      <td>55.363636</td>\n",
       "      <td>12.106364</td>\n",
       "      <td>146.564040</td>\n",
       "    </tr>\n",
       "    <tr>\n",
       "      <th>3</th>\n",
       "      <td>4.69</td>\n",
       "      <td>37.47</td>\n",
       "      <td>42.363636</td>\n",
       "      <td>-4.893636</td>\n",
       "      <td>23.947677</td>\n",
       "    </tr>\n",
       "    <tr>\n",
       "      <th>4</th>\n",
       "      <td>5.83</td>\n",
       "      <td>45.65</td>\n",
       "      <td>32.000000</td>\n",
       "      <td>13.650000</td>\n",
       "      <td>186.322500</td>\n",
       "    </tr>\n",
       "    <tr>\n",
       "      <th>5</th>\n",
       "      <td>6.00</td>\n",
       "      <td>32.92</td>\n",
       "      <td>30.454545</td>\n",
       "      <td>2.465455</td>\n",
       "      <td>6.078466</td>\n",
       "    </tr>\n",
       "    <tr>\n",
       "      <th>6</th>\n",
       "      <td>6.41</td>\n",
       "      <td>29.97</td>\n",
       "      <td>26.727273</td>\n",
       "      <td>3.242727</td>\n",
       "      <td>10.515280</td>\n",
       "    </tr>\n",
       "  </tbody>\n",
       "</table>\n",
       "</div>"
      ],
      "text/plain": [
       "      x      y         y_      delta     squared\n",
       "0  1.17  78.93  74.363636   4.566364   20.851677\n",
       "1  2.97  58.20  58.000000   0.200000    0.040000\n",
       "2  3.26  67.47  55.363636  12.106364  146.564040\n",
       "3  4.69  37.47  42.363636  -4.893636   23.947677\n",
       "4  5.83  45.65  32.000000  13.650000  186.322500\n",
       "5  6.00  32.92  30.454545   2.465455    6.078466\n",
       "6  6.41  29.97  26.727273   3.242727   10.515280"
      ]
     },
     "execution_count": 7,
     "metadata": {},
     "output_type": "execute_result"
    },
    {
     "data": {
      "image/png": "[encoded data removed]",
      "text/plain": [
       "<matplotlib.figure.Figure at 0x20a0fbb19b0>"
      ]
     },
     "metadata": {},
     "output_type": "display_data"
    },
    {
     "name": "stdout",
     "output_type": "stream",
     "text": [
      "Final Model\n"
     ]
    },
    {
     "data": {
      "text/plain": [
       "{'b': 85.280974529317433,\n",
       " 'gradb': -1.1154303258684146,\n",
       " 'gradm': 0.052262963522315832,\n",
       " 'm': -8.2492119709788003,\n",
       " 'sse': 38.425716333505029}"
      ]
     },
     "execution_count": 7,
     "metadata": {},
     "output_type": "execute_result"
    },
    {
     "data": {
      "text/html": [
       "<div>\n",
       "<style>\n",
       "    .dataframe thead tr:only-child th {\n",
       "        text-align: right;\n",
       "    }\n",
       "\n",
       "    .dataframe thead th {\n",
       "        text-align: left;\n",
       "    }\n",
       "\n",
       "    .dataframe tbody tr th {\n",
       "        vertical-align: top;\n",
       "    }\n",
       "</style>\n",
       "<table border=\"1\" class=\"dataframe\">\n",
       "  <thead>\n",
       "    <tr style=\"text-align: right;\">\n",
       "      <th></th>\n",
       "      <th>x</th>\n",
       "      <th>y</th>\n",
       "      <th>y_</th>\n",
       "      <th>delta</th>\n",
       "      <th>squared</th>\n",
       "    </tr>\n",
       "  </thead>\n",
       "  <tbody>\n",
       "    <tr>\n",
       "      <th>0</th>\n",
       "      <td>1.17</td>\n",
       "      <td>78.93</td>\n",
       "      <td>75.629397</td>\n",
       "      <td>3.300603</td>\n",
       "      <td>10.893983</td>\n",
       "    </tr>\n",
       "    <tr>\n",
       "      <th>1</th>\n",
       "      <td>2.97</td>\n",
       "      <td>58.20</td>\n",
       "      <td>60.780815</td>\n",
       "      <td>-2.580815</td>\n",
       "      <td>6.660606</td>\n",
       "    </tr>\n",
       "    <tr>\n",
       "      <th>2</th>\n",
       "      <td>3.26</td>\n",
       "      <td>67.47</td>\n",
       "      <td>58.388544</td>\n",
       "      <td>9.081456</td>\n",
       "      <td>82.472852</td>\n",
       "    </tr>\n",
       "    <tr>\n",
       "      <th>3</th>\n",
       "      <td>4.69</td>\n",
       "      <td>37.47</td>\n",
       "      <td>46.592170</td>\n",
       "      <td>-9.122170</td>\n",
       "      <td>83.213993</td>\n",
       "    </tr>\n",
       "    <tr>\n",
       "      <th>4</th>\n",
       "      <td>5.83</td>\n",
       "      <td>45.65</td>\n",
       "      <td>37.188069</td>\n",
       "      <td>8.461931</td>\n",
       "      <td>71.604281</td>\n",
       "    </tr>\n",
       "    <tr>\n",
       "      <th>5</th>\n",
       "      <td>6.00</td>\n",
       "      <td>32.92</td>\n",
       "      <td>35.785703</td>\n",
       "      <td>-2.865703</td>\n",
       "      <td>8.212252</td>\n",
       "    </tr>\n",
       "    <tr>\n",
       "      <th>6</th>\n",
       "      <td>6.41</td>\n",
       "      <td>29.97</td>\n",
       "      <td>32.403526</td>\n",
       "      <td>-2.433526</td>\n",
       "      <td>5.922048</td>\n",
       "    </tr>\n",
       "  </tbody>\n",
       "</table>\n",
       "</div>"
      ],
      "text/plain": [
       "      x      y         y_     delta    squared\n",
       "0  1.17  78.93  75.629397  3.300603  10.893983\n",
       "1  2.97  58.20  60.780815 -2.580815   6.660606\n",
       "2  3.26  67.47  58.388544  9.081456  82.472852\n",
       "3  4.69  37.47  46.592170 -9.122170  83.213993\n",
       "4  5.83  45.65  37.188069  8.461931  71.604281\n",
       "5  6.00  32.92  35.785703 -2.865703   8.212252\n",
       "6  6.41  29.97  32.403526 -2.433526   5.922048"
      ]
     },
     "execution_count": 7,
     "metadata": {},
     "output_type": "execute_result"
    },
    {
     "data": {
      "image/png": "[encoded data removed]",
      "text/plain": [
       "<matplotlib.figure.Figure at 0x20a0ff5db00>"
      ]
     },
     "metadata": {},
     "output_type": "display_data"
    }
   ],
   "source": [
    "# Initialize\n",
    "\n",
    "# Step 1 - Pulled from manual task\n",
    "learningRate = .01\n",
    "model['m'] = (80-30)/(1-6.5)\n",
    "model['b'] = 85\n",
    "\n",
    "# Step 2 - Compute model\n",
    "[model,modelData] = computeModelAndError (model, modelData)\n",
    "    \n",
    "print('Initial Model')\n",
    "model\n",
    "modelData\n",
    "\n",
    "# The use of \"_ =\" suppresses the intermediate output.\n",
    "_ = plt.scatter(modelData['x'],modelData['y'],color='r')\n",
    "_ = plt.scatter(modelData['x'],modelData['y_'],color='g')\n",
    "_ = plt.plot(modelData['x'],modelData['y_'],color='b')\n",
    "plt.show()\n",
    "\n",
    "# Run it with a loop\n",
    "\n",
    "runs = pd.DataFrame({'m': {}, 'b': {}, 'sse': {}})\n",
    "\n",
    "runs = runs.append({'m': model['m'], 'b': model['b'], 'sse': model['sse']}, ignore_index=True)\n",
    "for i in range(0,10):\n",
    "    # Step 3 - Apply grad \n",
    "    model = gradDescent(model,modelData,learningRate)\n",
    "\n",
    "    # Step 4 - Compute new model\n",
    "    [model,modelData] = computeModelAndError (model, modelData)\n",
    "    \n",
    "    runs = runs.append({'m': model['m'], 'b': model['b'], 'sse': model['sse']}, ignore_index=True)\n",
    "\n",
    "print('Final Model')\n",
    "model\n",
    "modelData\n",
    "\n",
    "_ = plt.scatter(modelData['x'],modelData['y'],color='r')\n",
    "_ = plt.scatter(modelData['x'],modelData['y_'],color='g')\n",
    "_ = plt.plot(modelData['x'],modelData['y_'],color='b')\n",
    "plt.show()\n",
    "\n"
   ]
  },
  {
   "cell_type": "code",
   "execution_count": 8,
   "metadata": {},
   "outputs": [
    {
     "name": "stdout",
     "output_type": "stream",
     "text": [
      "Runtime Paramers\n"
     ]
    },
    {
     "data": {
      "text/html": [
       "<div>\n",
       "<style>\n",
       "    .dataframe thead tr:only-child th {\n",
       "        text-align: right;\n",
       "    }\n",
       "\n",
       "    .dataframe thead th {\n",
       "        text-align: left;\n",
       "    }\n",
       "\n",
       "    .dataframe tbody tr th {\n",
       "        vertical-align: top;\n",
       "    }\n",
       "</style>\n",
       "<table border=\"1\" class=\"dataframe\">\n",
       "  <thead>\n",
       "    <tr style=\"text-align: right;\">\n",
       "      <th></th>\n",
       "      <th>b</th>\n",
       "      <th>m</th>\n",
       "      <th>sse</th>\n",
       "    </tr>\n",
       "  </thead>\n",
       "  <tbody>\n",
       "    <tr>\n",
       "      <th>0</th>\n",
       "      <td>85.000000</td>\n",
       "      <td>-9.090909</td>\n",
       "      <td>56.331377</td>\n",
       "    </tr>\n",
       "    <tr>\n",
       "      <th>1</th>\n",
       "      <td>85.089535</td>\n",
       "      <td>-8.697737</td>\n",
       "      <td>43.782785</td>\n",
       "    </tr>\n",
       "    <tr>\n",
       "      <th>2</th>\n",
       "      <td>85.143208</td>\n",
       "      <td>-8.485196</td>\n",
       "      <td>40.072197</td>\n",
       "    </tr>\n",
       "    <tr>\n",
       "      <th>3</th>\n",
       "      <td>85.177390</td>\n",
       "      <td>-8.370758</td>\n",
       "      <td>38.968726</td>\n",
       "    </tr>\n",
       "    <tr>\n",
       "      <th>4</th>\n",
       "      <td>85.200971</td>\n",
       "      <td>-8.309599</td>\n",
       "      <td>38.634361</td>\n",
       "    </tr>\n",
       "    <tr>\n",
       "      <th>5</th>\n",
       "      <td>85.218780</td>\n",
       "      <td>-8.277374</td>\n",
       "      <td>38.526919</td>\n",
       "    </tr>\n",
       "    <tr>\n",
       "      <th>6</th>\n",
       "      <td>85.233441</td>\n",
       "      <td>-8.260861</td>\n",
       "      <td>38.486466</td>\n",
       "    </tr>\n",
       "    <tr>\n",
       "      <th>7</th>\n",
       "      <td>85.246378</td>\n",
       "      <td>-8.252880</td>\n",
       "      <td>38.465822</td>\n",
       "    </tr>\n",
       "    <tr>\n",
       "      <th>8</th>\n",
       "      <td>85.258364</td>\n",
       "      <td>-8.249528</td>\n",
       "      <td>38.451070</td>\n",
       "    </tr>\n",
       "    <tr>\n",
       "      <th>9</th>\n",
       "      <td>85.269820</td>\n",
       "      <td>-8.248689</td>\n",
       "      <td>38.438106</td>\n",
       "    </tr>\n",
       "    <tr>\n",
       "      <th>10</th>\n",
       "      <td>85.280975</td>\n",
       "      <td>-8.249212</td>\n",
       "      <td>38.425716</td>\n",
       "    </tr>\n",
       "  </tbody>\n",
       "</table>\n",
       "</div>"
      ],
      "text/plain": [
       "            b         m        sse\n",
       "0   85.000000 -9.090909  56.331377\n",
       "1   85.089535 -8.697737  43.782785\n",
       "2   85.143208 -8.485196  40.072197\n",
       "3   85.177390 -8.370758  38.968726\n",
       "4   85.200971 -8.309599  38.634361\n",
       "5   85.218780 -8.277374  38.526919\n",
       "6   85.233441 -8.260861  38.486466\n",
       "7   85.246378 -8.252880  38.465822\n",
       "8   85.258364 -8.249528  38.451070\n",
       "9   85.269820 -8.248689  38.438106\n",
       "10  85.280975 -8.249212  38.425716"
      ]
     },
     "execution_count": 8,
     "metadata": {},
     "output_type": "execute_result"
    },
    {
     "data": {
      "image/png": "[encoded data removed]",
      "text/plain": [
       "<matplotlib.figure.Figure at 0x20a0f9b57b8>"
      ]
     },
     "metadata": {},
     "output_type": "display_data"
    }
   ],
   "source": [
    "print('Runtime Paramers')\n",
    "runs\n",
    "_ = plt.subplot(131)\n",
    "_ = plt.plot(runs.index,runs.m,color='b')\n",
    "_ = plt.title('m')\n",
    "_ = plt.subplot(132)\n",
    "_ = plt.plot(runs.index,runs.b,color='b')\n",
    "_ = plt.title('b')\n",
    "_ = plt.subplot(133)\n",
    "_ = plt.plot(runs.index,runs.sse,color='b')\n",
    "_ = plt.title('sse')\n",
    "plt.show()"
   ]
  },
  {
   "cell_type": "markdown",
   "metadata": {},
   "source": [
    "<font color='red'>\n",
    "# Adjust the starting values for m and b\n",
    "# Adjust the learning rate.  Observe the impact"
   ]
  }
 ],
 "metadata": {
  "kernelspec": {
   "display_name": "Python 3",
   "language": "python",
   "name": "python3"
  },
  "language_info": {
   "codemirror_mode": {
    "name": "ipython",
    "version": 3
   },
   "file_extension": ".py",
   "mimetype": "text/x-python",
   "name": "python",
   "nbconvert_exporter": "python",
   "pygments_lexer": "ipython3",
   "version": "3.6.1"
  }
 },
 "nbformat": 4,
 "nbformat_minor": 2
}
