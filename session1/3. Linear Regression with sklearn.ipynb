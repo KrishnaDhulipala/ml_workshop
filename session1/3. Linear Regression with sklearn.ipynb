{
 "cells": [
  {
   "cell_type": "markdown",
   "metadata": {},
   "source": [
    "# Introduction to Regression: Linear Regression with sklearn\n",
    "\n",
    "In this introduction, we will develop linear regression from basic principles.  Other tutorials will forgo the theory and focus on existing python libraries that are commonly used for building regression models.\n",
    "\n",
    "While it is fun to build up a regression model by hand, there are packages in place that take care of the dirty work.\n",
    "\n",
    "According to the website, scikit-learn (https://scikit-learn.org/stable/) is a collection of _\"simple and efficient tools for data mining and data analysis.\"_  We will be using the linear regression tools in this tutorial."
   ]
  },
  {
   "cell_type": "code",
   "execution_count": null,
   "metadata": {
    "collapsed": true
   },
   "outputs": [],
   "source": [
    "\n",
    "import pandas as pd  # Pandas is a package which creates data frames\n",
    "import numpy as np # Numpy is the package which creates/manages/operates on numerical data\n",
    "\n",
    "from sklearn import linear_model # Notice the new syntax here ... it allows the developer to load a subset of functionality\n",
    "from sklearn import  metrics\n",
    "\n",
    "import matplotlib.pyplot as plt # Matplotlib is the plotting library\n",
    "\n",
    "# This allow for multiple outputs\n",
    "from IPython.core.interactiveshell import InteractiveShell\n",
    "InteractiveShell.ast_node_interactivity = \"all\""
   ]
  },
  {
   "cell_type": "markdown",
   "metadata": {},
   "source": [
    "## The Data\n",
    "\n",
    "This tutorial is a subset of the tutorial developed by _RishSD_ on github (https://github.com/RishiSD/Linear-regression-on-Swedish-Auto-Insurance-dataset).\n",
    "\n",
    "To quote his tutorial:  _\"The Swedish Auto Insurance Dataset involves predicting the total payment for all claims in thousands of Swedish Kronor, given the total number of claims.\"_\n",
    "\n",
    "X: Number of claims. <br>\n",
    "Y: Total payment for all claims in thousands of Swedish Kronor.\n"
   ]
  },
  {
   "cell_type": "code",
   "execution_count": null,
   "metadata": {},
   "outputs": [],
   "source": [
    "# Pull the data directly from github\n",
    "swede = 'https://github.com/RishiSD/Linear-regression-on-Swedish-Auto-Insurance-dataset/raw/master/slr06.xls'\n",
    "data = pd.read_excel(swede)\n",
    "\n",
    "data.head()\n",
    "\n",
    "_ = plt.scatter(data.X,data.Y)\n",
    "_ = plt.title('Scatter plot between feature and Label')\n",
    "plt.show()"
   ]
  },
  {
   "cell_type": "markdown",
   "metadata": {},
   "source": [
    "## Running the model\n",
    "\n",
    "With sklearn, model development is much more straightforward.\n",
    "\n",
    "First, select the model with: linear_model.LinearRegression() <br>\n",
    "(https://scikit-learn.org/stable/modules/generated/sklearn.linear_model.LinearRegression.html#) <br>\n",
    "This creates an object which specifies the fact that you are running a linear regression.\n",
    "\n",
    "Second, you simply run the model with the .fit() method.\n",
    "\n",
    "Third, you can run the model in your input to get your estimates (which was called $\\bar{y}$ in the previous tutorials.\n",
    "\n",
    "Fourth, you look at the results with metrics.mean_squared_error() method.\n",
    "\n"
   ]
  },
  {
   "cell_type": "code",
   "execution_count": null,
   "metadata": {},
   "outputs": [],
   "source": [
    "# sklearn.linear_model can be a bit finicky\n",
    "# X: should be a dataframe containing the independant variables\n",
    "# Y: should be a vector of the outputs\n",
    "\n",
    "X = pd.DataFrame(data.X)\n",
    "Y = data.Y\n",
    "\n",
    "reg = linear_model.LinearRegression()\n",
    "_ = reg.fit(X,Y)\n",
    "data.Y_ = reg.predict(X)\n",
    "\n",
    "# Look how tricky I am, I switched from mse to rmse\n",
    "mse = metrics.mean_squared_error(data.Y_,data.Y)\n",
    "print('RMSE for Training set : %f' % (np.sqrt(mse)))\n",
    "\n",
    "_ = plt.scatter(data.X,data.Y,color='r')\n",
    "_ = plt.scatter(data.X,data.Y_,color='g')\n",
    "_ = plt.plot(data.X,data.Y_,color='b')\n",
    "plt.show()\n"
   ]
  },
  {
   "cell_type": "markdown",
   "metadata": {},
   "source": [
    "## Moving on to multiple variables:  Multi-variate linear regression\n",
    "\n",
    "We still have one output variable, but now you can have multiple input variables.\n",
    "\n",
    "Fortunatley, sklearn has some built-in datasets to use for demonstrating.\n",
    "\n",
    "Portions of this tutorial were derived from:\n",
    "https://towardsdatascience.com/linear-regression-on-boston-housing-dataset-f409b7e4a155"
   ]
  },
  {
   "cell_type": "code",
   "execution_count": null,
   "metadata": {},
   "outputs": [],
   "source": [
    "# The boston housing dataset contains several variables which can be used in a regression model\n",
    "from sklearn.datasets import load_boston\n",
    "boston = load_boston()\n",
    "\n",
    "boston"
   ]
  },
  {
   "cell_type": "code",
   "execution_count": null,
   "metadata": {},
   "outputs": [],
   "source": [
    "# Unfortunately, the data doesn't look too much like we are used to.\n",
    "# It's not in a table, so we have to create the table. It's a dict\n",
    "\n",
    "boston.keys()\n",
    "print(boston.DESCR)\n",
    "boston.feature_names"
   ]
  },
  {
   "cell_type": "code",
   "execution_count": null,
   "metadata": {},
   "outputs": [],
   "source": [
    "# Creating new dataframes is fairly straightforward:\n",
    "bostonDF = pd.DataFrame(boston.data, columns=boston.feature_names)\n",
    "\n",
    "# As noted in the description, the goal is to predict median home value.\n",
    "# By default, that isn't in our dataframe, so lets add it:\n",
    "bostonDF['MEDV'] = boston.target\n",
    "\n",
    "bostonDF.head()\n"
   ]
  },
  {
   "cell_type": "code",
   "execution_count": null,
   "metadata": {},
   "outputs": [],
   "source": [
    "# Let's see what the data looks like graphically.\n",
    "# Choose a couple of variables to look at:\n",
    "\n",
    "feature1 = _______\n",
    "feature2 = _______\n",
    "\n",
    "features = [feature1, feature2]\n",
    "target = bostonDF['MEDV']\n",
    "\n",
    "\n",
    "\n",
    "_ = plt.figure(figsize=(20, 5))\n",
    "\n",
    "# This loops over the features that we want to see\n",
    "for i, col in enumerate(features):\n",
    "    # It creates a subplot for each feature\n",
    "    _ = plt.subplot(1, len(features) , i+1)\n",
    "    x = bostonDF[col]\n",
    "    y = target\n",
    "    _ = plt.scatter(x, y, marker='o')\n",
    "    _ = plt.title(col)\n",
    "    _ = plt.xlabel(col)\n",
    "    _ = plt.ylabel('MEDV')\n",
    "    \n",
    "plt.show()"
   ]
  },
  {
   "cell_type": "code",
   "execution_count": null,
   "metadata": {},
   "outputs": [],
   "source": [
    "# Let's see what happens if we only look at one independent variable\n",
    "\n",
    "# Remember that the independent variables are stored in a dataframe because there could be several\n",
    "X = pd.DataFrame(np.c_[bostonDF[feature1]], columns = [feature1])\n",
    "# Whereas the dependent variable is a list\n",
    "Y = bostonDF['MEDV']\n",
    "\n",
    "reg = linear_model.LinearRegression()\n",
    "_ = reg.fit(X,Y)\n",
    "Y_ = reg.predict(X)\n",
    "\n",
    "# Look how tricky I am, I switched from mse to rmse\n",
    "mse = metrics.mean_squared_error(Y_,Y)\n",
    "print('RMSE for LSTAT variable : %f' % (np.sqrt(mse)))\n",
    "\n"
   ]
  },
  {
   "cell_type": "code",
   "execution_count": null,
   "metadata": {},
   "outputs": [],
   "source": [
    "# Now for the other variable\n",
    "\n",
    "# Remember that the independent variables are stored in a dataframe because there could be several\n",
    "X = pd.DataFrame(np.c_[bostonDF[feature2]], columns = [feature2])\n",
    "# Whereas the dependent variable is a list\n",
    "Y = bostonDF['MEDV']\n",
    "\n",
    "reg = linear_model.LinearRegression()\n",
    "_ = reg.fit(X,Y)\n",
    "Y_ = reg.predict(X)\n",
    "\n",
    "# Look how tricky I am, I switched from mse to rmse\n",
    "mse = metrics.mean_squared_error(Y_,Y)\n",
    "print('RMSE for RM variable : %f' % (np.sqrt(mse)))\n",
    "\n"
   ]
  },
  {
   "cell_type": "code",
   "execution_count": null,
   "metadata": {},
   "outputs": [],
   "source": [
    "# Remember that the independent variables are stored in a dataframe because there could be several\n",
    "X = pd.DataFrame(np.c_[bostonDF[feature1], bostonDF[feature2]], columns = [feature1,feature2])\n",
    "# Whereas the dependent variable is a list\n",
    "Y = bostonDF['MEDV']\n",
    "\n",
    "reg = linear_model.LinearRegression()\n",
    "_ = reg.fit(X,Y)\n",
    "Y_ = reg.predict(X)\n",
    "\n",
    "# Look how tricky I am, I switched from mse to rmse\n",
    "mse = metrics.mean_squared_error(Y_,Y)\n",
    "print('RMSE for Training set : %f' % (np.sqrt(mse)))\n"
   ]
  },
  {
   "cell_type": "markdown",
   "metadata": {},
   "source": [
    "<font color='red'>\n",
    "# Try a few more models\n",
    "# Does any of the univariate models do better?"
   ]
  },
  {
   "cell_type": "code",
   "execution_count": null,
   "metadata": {},
   "outputs": [],
   "source": [
    "# Ok, let's go for it:\n",
    "\n",
    "X = bostonDF\n",
    "X = bostonDF.loc[:,bostonDF.columns != 'MEDV']\n",
    "# Whereas the dependent variable is a list\n",
    "Y = bostonDF['MEDV']\n",
    "\n",
    "reg = linear_model.LinearRegression()\n",
    "_ = reg.fit(X,Y)\n",
    "Y_ = reg.predict(X)\n",
    "\n",
    "# Look how tricky I am, I switched from mse to rmse\n",
    "mse = metrics.mean_squared_error(Y_,Y)\n",
    "print('RMSE for Training set : %f' % (np.sqrt(mse)))\n",
    "\n",
    "\n"
   ]
  }
 ],
 "metadata": {
  "kernelspec": {
   "display_name": "Python 3",
   "language": "python",
   "name": "python3"
  },
  "language_info": {
   "codemirror_mode": {
    "name": "ipython",
    "version": 3
   },
   "file_extension": ".py",
   "mimetype": "text/x-python",
   "name": "python",
   "nbconvert_exporter": "python",
   "pygments_lexer": "ipython3",
   "version": "3.6.1"
  }
 },
 "nbformat": 4,
 "nbformat_minor": 2
}
