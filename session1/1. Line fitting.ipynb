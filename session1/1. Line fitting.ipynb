{
 "cells": [
  {
   "cell_type": "markdown",
   "metadata": {},
   "source": [
    "# Introduction to Regression: Line Fitting\n",
    "\n",
    "In this introduction, we will develop linear regression from basic principles.  Other tutorials will forgo the theory and focus on existing python libraries that are commonly used for building regression models.\n"
   ]
  },
  {
   "cell_type": "code",
   "execution_count": null,
   "metadata": {
    "collapsed": true
   },
   "outputs": [],
   "source": [
    "# All good python projects begin with specifying which modules to load\n",
    "\n",
    "import pandas as pd  # Pandas is a package which creates data frames\n",
    "import numpy as np # Numpy is the package which creates/manages/operates on numerical data\n",
    "import matplotlib.pyplot as plt # Matplotlib is the plotting library"
   ]
  },
  {
   "cell_type": "markdown",
   "metadata": {},
   "source": [
    "## The Data\n",
    "\n",
    "Every project begins with the data.  We will be using example data that _Fedor Karmanov_ has created based on some published literature.  Visit Fedor's github repo to learn more (https://github.com/fed-ka/springboard)\n",
    "\n",
    "//=-=-=-=-=-=-=-=-=-=-=-=-=-=\n",
    "\n",
    "Dataset:  lsd.dat\n",
    "Source: Wagner, Agahajanian, and Bing (1968). Correlation of Performance\n",
    "Test Scores with Tissue Concentration of Lysergic Acid Diethylamide in\n",
    "Human Subjects. Clinical Pharmacology and Therapeutics, Vol.9 pp635-638.\n",
    "\n",
    "Description: Group of volunteers was given LSD, their mean scores on\n",
    "math exam and tissue concentrations of LSD were obtained at n=7 time points.\n",
    "\n",
    "Variables/Columns\n",
    "\n",
    "Tissue Concentration    1-4 <br>\n",
    "Math Score             8-12\n",
    "\n",
    "//=-=-=-=-=-=-=-=-=-=-=-=-=-=\n",
    "\n"
   ]
  },
  {
   "cell_type": "code",
   "execution_count": null,
   "metadata": {},
   "outputs": [],
   "source": [
    "# Pull the data directly from github\n",
    "lsd = 'https://raw.githubusercontent.com/fed-ka/springboard/master/5.%20Linear%20Regressions%20in%20Python/lsd.csv'\n",
    "data = pd.read_csv(lsd)\n",
    "\n",
    "# head() gives a snapshot of the data.  Jupyterhub is great a rendering tables.\n",
    "data.head()"
   ]
  },
  {
   "cell_type": "code",
   "execution_count": null,
   "metadata": {},
   "outputs": [],
   "source": [
    "# describe() provides more summary information from the data (also in a nice rendered table)\n",
    "data.describe()"
   ]
  },
  {
   "cell_type": "code",
   "execution_count": null,
   "metadata": {},
   "outputs": [],
   "source": [
    "# plt.scatter can show us the data\n",
    "plt.scatter(data['Tissue Concentration'], data['Test Score'],color='r')\n",
    "plt.title('Drugs: What\\'s the deal?')\n",
    "plt.xlabel('Tissue Concentration')\n",
    "plt.ylabel('Test Score')\n",
    "plt.show()"
   ]
  },
  {
   "cell_type": "markdown",
   "metadata": {},
   "source": [
    "# Model buiding\n",
    "\n",
    "When building models, there are any number of ways to store/represent the data.  \n",
    "\n",
    "You can always use the native data table and refer directly to the columns, but I'm too lazy to keep typing 'Tissue Concentration' and 'Test Score', so I'm going to create new datatables.\n",
    "\n",
    "model: Dict <br>\n",
    "model['m']: Slope of the line <br>\n",
    "model['b']: Y Intercept\n",
    "\n",
    "modelData: Dataframe <br>\n",
    "modelData['x']: Independent variable <br>\n",
    "modelData['y']: Dependent variable <br>\n",
    "modelData['y\\_']: Estimated dependent variable based on model\n",
    "\n"
   ]
  },
  {
   "cell_type": "code",
   "execution_count": null,
   "metadata": {},
   "outputs": [],
   "source": [
    "model = dict()\n",
    "model['m'] = ________\n",
    "model['b'] = ________\n",
    "\n",
    "model\n"
   ]
  },
  {
   "cell_type": "code",
   "execution_count": null,
   "metadata": {},
   "outputs": [],
   "source": [
    "modelData = pd.DataFrame({'x': data['Tissue Concentration'],'y': data['Test Score']})\n",
    "modelData['y_'] = model['m'] * modelData['x']  +  model['b']\n",
    "\n",
    "modelData"
   ]
  },
  {
   "cell_type": "code",
   "execution_count": null,
   "metadata": {},
   "outputs": [],
   "source": [
    "# Let's see how we did\n",
    "plt.scatter(modelData['x'],modelData['y'],color='r')\n",
    "plt.scatter(modelData['x'],modelData['y_'],color='g')\n",
    "plt.plot(modelData['x'],modelData['y_'],color='b')\n",
    "plt.show()"
   ]
  },
  {
   "cell_type": "markdown",
   "metadata": {},
   "source": [
    "# Model Evaulation\n",
    "\n",
    "We need a metric to determine how good the model is.  Thoughts?"
   ]
  },
  {
   "cell_type": "code",
   "execution_count": null,
   "metadata": {},
   "outputs": [],
   "source": [
    "modelData['delta'] = modelData['y'] - modelData['y_']\n",
    "modelData"
   ]
  },
  {
   "cell_type": "code",
   "execution_count": null,
   "metadata": {},
   "outputs": [],
   "source": [
    "modelData['squared'] = modelData['delta']*modelData['delta']\n",
    "modelData"
   ]
  },
  {
   "cell_type": "code",
   "execution_count": null,
   "metadata": {},
   "outputs": [],
   "source": [
    "sse = sum(modelData['squared'])/modelData['squared'].count()\n",
    "sse"
   ]
  },
  {
   "cell_type": "markdown",
   "metadata": {},
   "source": [
    "<font color='red'>\n",
    "# Ok, Now go back and try different values for m and b.\n",
    "# Can you do better?"
   ]
  }
 ],
 "metadata": {
  "kernelspec": {
   "display_name": "Python 3",
   "language": "python",
   "name": "python3"
  },
  "language_info": {
   "codemirror_mode": {
    "name": "ipython",
    "version": 3
   },
   "file_extension": ".py",
   "mimetype": "text/x-python",
   "name": "python",
   "nbconvert_exporter": "python",
   "pygments_lexer": "ipython3",
   "version": "3.6.1"
  }
 },
 "nbformat": 4,
 "nbformat_minor": 2
}
